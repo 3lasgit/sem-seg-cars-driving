version https://git-lfs.github.com/spec/v1
oid sha256:00ffb4494fdc88a8254e1a0ca45e6e79044edd7925b3d680da5ff86a17ff6ead
size 16511
