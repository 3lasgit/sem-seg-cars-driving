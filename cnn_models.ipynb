version https://git-lfs.github.com/spec/v1
oid sha256:182c5fd6e3982dba5df8485d0343dc286463f323037cee7cb5b45a7713858236
size 496444824
